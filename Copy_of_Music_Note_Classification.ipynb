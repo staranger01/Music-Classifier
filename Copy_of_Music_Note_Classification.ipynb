{
  "nbformat": 4,
  "nbformat_minor": 0,
  "metadata": {
    "colab": {
      "name": "Copy of Music_Note_Classification.ipynb",
      "provenance": [],
      "collapsed_sections": []
    },
    "kernelspec": {
      "name": "python3",
      "display_name": "Python 3"
    },
    "language_info": {
      "name": "python"
    }
  },
  "cells": [
    {
      "cell_type": "markdown",
      "metadata": {
        "id": "tr2A_bUS4y4v"
      },
      "source": [
        "# Music Note Classification"
      ]
    },
    {
      "cell_type": "markdown",
      "metadata": {
        "id": "Bjd2doJ5ir-p"
      },
      "source": [
        "## Project Overview"
      ]
    },
    {
      "cell_type": "markdown",
      "metadata": {
        "id": "U24F70SBsYXQ"
      },
      "source": [
        "---\n",
        "### **Introduction**\n",
        "\n",
        "For our Spring 2021 semester ITEC 4700 Artificial Intelligence project, the team was tasked with selecting a topic of interest that could apply Machine Learning to generate a solution. After much deliberation, we decided to base our project on a project conducted by four students at Stanford University called **Music Genre Classification.** \n",
        "\n",
        "*   [Report](http://cs229.stanford.edu/proj2016/report/BurlinCremeLenain-MusicGenreClassification-report.pdf)\n",
        "*   [Poster](http://cs229.stanford.edu/proj2016/poster/BurlinCremeLenain-MusicGenreClassification-poster.pdf)\n",
        "---\n",
        "### **The Team**\n",
        "\n",
        "Sarah Price<br>\n",
        "Ruth Whitehouse<br>\n",
        "Shababa Kamreen<br>\n",
        "Lillian Sheppard<br>\n",
        "\n",
        "---\n",
        "### **The Problem**\n",
        "\n",
        "Our original plan was to follow the concept of \n",
        "\n",
        "\n",
        "Our classification is based off of [this](https://www.kaggle.com/kishanj/music-notes-datasets) dataset from **Kaggle**."
      ]
    },
    {
      "cell_type": "markdown",
      "metadata": {
        "id": "JoEqDuyI_e9a"
      },
      "source": [
        "## Importing the Data\n"
      ]
    },
    {
      "cell_type": "markdown",
      "metadata": {
        "id": "DS26eMjqii0D"
      },
      "source": [
        "Importing the Kaggle dataset into Colab - for direction on how to directly import from Kaggle, credit to:\n",
        "\n",
        "https://medium.com/analytics-vidhya/how-to-fetch-kaggle-datasets-into-google-colab-ea682569851a"
      ]
    },
    {
      "cell_type": "code",
      "metadata": {
        "id": "XpXYhB464uX4",
        "colab": {
          "base_uri": "https://localhost:8080/"
        },
        "outputId": "a2d09bda-896d-47bf-e620-bd83f96b9508"
      },
      "source": [
        "from google.colab import drive\n",
        "drive.mount('/content/gdrive')"
      ],
      "execution_count": null,
      "outputs": [
        {
          "output_type": "stream",
          "text": [
            "Mounted at /content/gdrive\n"
          ],
          "name": "stdout"
        }
      ]
    },
    {
      "cell_type": "code",
      "metadata": {
        "id": "yl3T0OM__AME"
      },
      "source": [
        "import os\n",
        "os.environ['KAGGLE_CONFIG_DIR'] = \"/content/gdrive/My Drive/Kaggle\"\n",
        "# /content/gdrive/My Drive/Kaggle is the path where kaggle.json is present in the Google Drive"
      ],
      "execution_count": null,
      "outputs": []
    },
    {
      "cell_type": "code",
      "metadata": {
        "colab": {
          "base_uri": "https://localhost:8080/"
        },
        "id": "AxrQQtjv_FBR",
        "outputId": "3da06335-0182-4fe7-dda2-f7fd601955b0"
      },
      "source": [
        "#changing the working directory\n",
        "%cd /content/gdrive/My Drive/Kaggle\n",
        "#Check the present working directory using pwd command"
      ],
      "execution_count": null,
      "outputs": [
        {
          "output_type": "stream",
          "text": [
            "[Errno 2] No such file or directory: '/content/gdrive/My Drive/Kaggle'\n",
            "/content\n"
          ],
          "name": "stdout"
        }
      ]
    },
    {
      "cell_type": "code",
      "metadata": {
        "colab": {
          "base_uri": "https://localhost:8080/"
        },
        "id": "vni2uM058_hf",
        "outputId": "d45bbe61-7439-4cb8-a50b-7be5f0efcb8a"
      },
      "source": [
        "!kaggle datasets download -d kishanj/music-notes-datasets"
      ],
      "execution_count": null,
      "outputs": [
        {
          "output_type": "stream",
          "text": [
            "Traceback (most recent call last):\n",
            "  File \"/usr/local/bin/kaggle\", line 5, in <module>\n",
            "    from kaggle.cli import main\n",
            "  File \"/usr/local/lib/python2.7/dist-packages/kaggle/__init__.py\", line 23, in <module>\n",
            "    api.authenticate()\n",
            "  File \"/usr/local/lib/python2.7/dist-packages/kaggle/api/kaggle_api_extended.py\", line 146, in authenticate\n",
            "    self.config_file, self.config_dir))\n",
            "IOError: Could not find kaggle.json. Make sure it's located in /content/gdrive/My Drive/Kaggle. Or use the environment method.\n"
          ],
          "name": "stdout"
        }
      ]
    },
    {
      "cell_type": "code",
      "metadata": {
        "colab": {
          "base_uri": "https://localhost:8080/"
        },
        "id": "vVOTw8kb_SfC",
        "outputId": "0f119ecf-4fe3-4fe6-bf2a-6c84b5ffd404"
      },
      "source": [
        "!ls"
      ],
      "execution_count": null,
      "outputs": [
        {
          "output_type": "stream",
          "text": [
            "gdrive\tsample_data\n"
          ],
          "name": "stdout"
        }
      ]
    },
    {
      "cell_type": "code",
      "metadata": {
        "colab": {
          "base_uri": "https://localhost:8080/"
        },
        "id": "VFiUJeCw_W_u",
        "outputId": "c4069d32-e87b-4253-c529-b484af10978a"
      },
      "source": [
        "#unzipping the zip files and deleting the zip files\n",
        "!unzip \\*.zip  && rm *.zip"
      ],
      "execution_count": null,
      "outputs": [
        {
          "output_type": "stream",
          "text": [
            "unzip:  cannot find or open *.zip, *.zip.zip or *.zip.ZIP.\n",
            "\n",
            "No zipfiles found.\n"
          ],
          "name": "stdout"
        }
      ]
    },
    {
      "cell_type": "markdown",
      "metadata": {
        "id": "XRHKkwg8_3CG"
      },
      "source": [
        "## Data Preparation"
      ]
    },
    {
      "cell_type": "markdown",
      "metadata": {
        "id": "W_o7D4s_t1FM"
      },
      "source": [
        "---\n",
        "In order to begin teaching the machine how to classify the music notes, we have to do some preparation work to the dataset. This includes splitting the data into 3 sets: the training, the validation, and the testing. \n",
        "\n",
        "We want to be sure that there are equal opportunities for the machine to learn each type of note, so initially, we split the data into Pandas dataframes for each type of note, creating 5 dataframes. Once split, we divided each of those frames into training, validation, and testing sets for each type of note. Finally, we combined each of the 5 training, validation, and testing sets back into one dataframe for each purpose, so that it would include notes of each type."
      ]
    },
    {
      "cell_type": "code",
      "metadata": {
        "id": "4T7YZ64V__OE",
        "colab": {
          "base_uri": "https://localhost:8080/",
          "height": 291
        },
        "outputId": "3c2adc78-fd9c-4372-964a-f090df897803"
      },
      "source": [
        "import pandas as pd\n",
        "import numpy as np\n",
        "import numpy as np\n",
        "import matplotlib.pyplot as plt\n",
        "from PIL import Image\n",
        "import os\n",
        "\n",
        "%matplotlib inline\n",
        "\n",
        "\n",
        "\n",
        "url = 'https://raw.githubusercontent.com/staranger01/ai/main/dataset.csv'\n",
        "\n",
        "notes = pd.read_csv(url)\n",
        "\n",
        "print(notes.shape)\n",
        "notes.head()\n"
      ],
      "execution_count": 34,
      "outputs": [
        {
          "output_type": "stream",
          "text": [
            "(5000, 785)\n"
          ],
          "name": "stdout"
        },
        {
          "output_type": "execute_result",
          "data": {
            "text/html": [
              "<div>\n",
              "<style scoped>\n",
              "    .dataframe tbody tr th:only-of-type {\n",
              "        vertical-align: middle;\n",
              "    }\n",
              "\n",
              "    .dataframe tbody tr th {\n",
              "        vertical-align: top;\n",
              "    }\n",
              "\n",
              "    .dataframe thead th {\n",
              "        text-align: right;\n",
              "    }\n",
              "</style>\n",
              "<table border=\"1\" class=\"dataframe\">\n",
              "  <thead>\n",
              "    <tr style=\"text-align: right;\">\n",
              "      <th></th>\n",
              "      <th>label</th>\n",
              "      <th>pixel 1</th>\n",
              "      <th>pixel 2</th>\n",
              "      <th>pixel 3</th>\n",
              "      <th>pixel 4</th>\n",
              "      <th>pixel 5</th>\n",
              "      <th>pixel 6</th>\n",
              "      <th>pixel 7</th>\n",
              "      <th>pixel 8</th>\n",
              "      <th>pixel 9</th>\n",
              "      <th>pixel 10</th>\n",
              "      <th>pixel 11</th>\n",
              "      <th>pixel 12</th>\n",
              "      <th>pixel 13</th>\n",
              "      <th>pixel 14</th>\n",
              "      <th>pixel 15</th>\n",
              "      <th>pixel 16</th>\n",
              "      <th>pixel 17</th>\n",
              "      <th>pixel 18</th>\n",
              "      <th>pixel 19</th>\n",
              "      <th>pixel 20</th>\n",
              "      <th>pixel 21</th>\n",
              "      <th>pixel 22</th>\n",
              "      <th>pixel 23</th>\n",
              "      <th>pixel 24</th>\n",
              "      <th>pixel 25</th>\n",
              "      <th>pixel 26</th>\n",
              "      <th>pixel 27</th>\n",
              "      <th>pixel 28</th>\n",
              "      <th>pixel 29</th>\n",
              "      <th>pixel 30</th>\n",
              "      <th>pixel 31</th>\n",
              "      <th>pixel 32</th>\n",
              "      <th>pixel 33</th>\n",
              "      <th>pixel 34</th>\n",
              "      <th>pixel 35</th>\n",
              "      <th>pixel 36</th>\n",
              "      <th>pixel 37</th>\n",
              "      <th>pixel 38</th>\n",
              "      <th>pixel 39</th>\n",
              "      <th>...</th>\n",
              "      <th>pixel 745</th>\n",
              "      <th>pixel 746</th>\n",
              "      <th>pixel 747</th>\n",
              "      <th>pixel 748</th>\n",
              "      <th>pixel 749</th>\n",
              "      <th>pixel 750</th>\n",
              "      <th>pixel 751</th>\n",
              "      <th>pixel 752</th>\n",
              "      <th>pixel 753</th>\n",
              "      <th>pixel 754</th>\n",
              "      <th>pixel 755</th>\n",
              "      <th>pixel 756</th>\n",
              "      <th>pixel 757</th>\n",
              "      <th>pixel 758</th>\n",
              "      <th>pixel 759</th>\n",
              "      <th>pixel 760</th>\n",
              "      <th>pixel 761</th>\n",
              "      <th>pixel 762</th>\n",
              "      <th>pixel 763</th>\n",
              "      <th>pixel 764</th>\n",
              "      <th>pixel 765</th>\n",
              "      <th>pixel 766</th>\n",
              "      <th>pixel 767</th>\n",
              "      <th>pixel 768</th>\n",
              "      <th>pixel 769</th>\n",
              "      <th>pixel 770</th>\n",
              "      <th>pixel 771</th>\n",
              "      <th>pixel 772</th>\n",
              "      <th>pixel 773</th>\n",
              "      <th>pixel 774</th>\n",
              "      <th>pixel 775</th>\n",
              "      <th>pixel 776</th>\n",
              "      <th>pixel 777</th>\n",
              "      <th>pixel 778</th>\n",
              "      <th>pixel 779</th>\n",
              "      <th>pixel 780</th>\n",
              "      <th>pixel 781</th>\n",
              "      <th>pixel 782</th>\n",
              "      <th>pixel 783</th>\n",
              "      <th>pixel 784</th>\n",
              "    </tr>\n",
              "  </thead>\n",
              "  <tbody>\n",
              "    <tr>\n",
              "      <th>0</th>\n",
              "      <td>Whole</td>\n",
              "      <td>253</td>\n",
              "      <td>253</td>\n",
              "      <td>253</td>\n",
              "      <td>253</td>\n",
              "      <td>253</td>\n",
              "      <td>253</td>\n",
              "      <td>253</td>\n",
              "      <td>253</td>\n",
              "      <td>253</td>\n",
              "      <td>253</td>\n",
              "      <td>253</td>\n",
              "      <td>253</td>\n",
              "      <td>253</td>\n",
              "      <td>253</td>\n",
              "      <td>253</td>\n",
              "      <td>253</td>\n",
              "      <td>253</td>\n",
              "      <td>253</td>\n",
              "      <td>253</td>\n",
              "      <td>254</td>\n",
              "      <td>254</td>\n",
              "      <td>254</td>\n",
              "      <td>254</td>\n",
              "      <td>254</td>\n",
              "      <td>254</td>\n",
              "      <td>254</td>\n",
              "      <td>254</td>\n",
              "      <td>254</td>\n",
              "      <td>253</td>\n",
              "      <td>253</td>\n",
              "      <td>253</td>\n",
              "      <td>253</td>\n",
              "      <td>253</td>\n",
              "      <td>253</td>\n",
              "      <td>253</td>\n",
              "      <td>253</td>\n",
              "      <td>253</td>\n",
              "      <td>253</td>\n",
              "      <td>253</td>\n",
              "      <td>...</td>\n",
              "      <td>254</td>\n",
              "      <td>254</td>\n",
              "      <td>254</td>\n",
              "      <td>254</td>\n",
              "      <td>254</td>\n",
              "      <td>254</td>\n",
              "      <td>254</td>\n",
              "      <td>254</td>\n",
              "      <td>254</td>\n",
              "      <td>254</td>\n",
              "      <td>254</td>\n",
              "      <td>254</td>\n",
              "      <td>253</td>\n",
              "      <td>253</td>\n",
              "      <td>253</td>\n",
              "      <td>253</td>\n",
              "      <td>253</td>\n",
              "      <td>253</td>\n",
              "      <td>253</td>\n",
              "      <td>253</td>\n",
              "      <td>253</td>\n",
              "      <td>253</td>\n",
              "      <td>254</td>\n",
              "      <td>254</td>\n",
              "      <td>254</td>\n",
              "      <td>254</td>\n",
              "      <td>254</td>\n",
              "      <td>254</td>\n",
              "      <td>254</td>\n",
              "      <td>254</td>\n",
              "      <td>254</td>\n",
              "      <td>254</td>\n",
              "      <td>254</td>\n",
              "      <td>254</td>\n",
              "      <td>254</td>\n",
              "      <td>254</td>\n",
              "      <td>254</td>\n",
              "      <td>254</td>\n",
              "      <td>254</td>\n",
              "      <td>254</td>\n",
              "    </tr>\n",
              "    <tr>\n",
              "      <th>1</th>\n",
              "      <td>Whole</td>\n",
              "      <td>255</td>\n",
              "      <td>255</td>\n",
              "      <td>255</td>\n",
              "      <td>255</td>\n",
              "      <td>255</td>\n",
              "      <td>255</td>\n",
              "      <td>255</td>\n",
              "      <td>255</td>\n",
              "      <td>255</td>\n",
              "      <td>255</td>\n",
              "      <td>255</td>\n",
              "      <td>255</td>\n",
              "      <td>255</td>\n",
              "      <td>255</td>\n",
              "      <td>255</td>\n",
              "      <td>255</td>\n",
              "      <td>255</td>\n",
              "      <td>255</td>\n",
              "      <td>255</td>\n",
              "      <td>255</td>\n",
              "      <td>255</td>\n",
              "      <td>255</td>\n",
              "      <td>255</td>\n",
              "      <td>255</td>\n",
              "      <td>255</td>\n",
              "      <td>255</td>\n",
              "      <td>255</td>\n",
              "      <td>255</td>\n",
              "      <td>255</td>\n",
              "      <td>255</td>\n",
              "      <td>255</td>\n",
              "      <td>255</td>\n",
              "      <td>255</td>\n",
              "      <td>255</td>\n",
              "      <td>255</td>\n",
              "      <td>255</td>\n",
              "      <td>255</td>\n",
              "      <td>255</td>\n",
              "      <td>255</td>\n",
              "      <td>...</td>\n",
              "      <td>255</td>\n",
              "      <td>255</td>\n",
              "      <td>255</td>\n",
              "      <td>255</td>\n",
              "      <td>255</td>\n",
              "      <td>255</td>\n",
              "      <td>255</td>\n",
              "      <td>255</td>\n",
              "      <td>255</td>\n",
              "      <td>255</td>\n",
              "      <td>255</td>\n",
              "      <td>255</td>\n",
              "      <td>255</td>\n",
              "      <td>255</td>\n",
              "      <td>255</td>\n",
              "      <td>255</td>\n",
              "      <td>255</td>\n",
              "      <td>255</td>\n",
              "      <td>255</td>\n",
              "      <td>255</td>\n",
              "      <td>255</td>\n",
              "      <td>255</td>\n",
              "      <td>255</td>\n",
              "      <td>255</td>\n",
              "      <td>255</td>\n",
              "      <td>255</td>\n",
              "      <td>255</td>\n",
              "      <td>255</td>\n",
              "      <td>255</td>\n",
              "      <td>255</td>\n",
              "      <td>255</td>\n",
              "      <td>255</td>\n",
              "      <td>255</td>\n",
              "      <td>255</td>\n",
              "      <td>255</td>\n",
              "      <td>255</td>\n",
              "      <td>255</td>\n",
              "      <td>255</td>\n",
              "      <td>255</td>\n",
              "      <td>255</td>\n",
              "    </tr>\n",
              "    <tr>\n",
              "      <th>2</th>\n",
              "      <td>Whole</td>\n",
              "      <td>255</td>\n",
              "      <td>255</td>\n",
              "      <td>255</td>\n",
              "      <td>255</td>\n",
              "      <td>255</td>\n",
              "      <td>255</td>\n",
              "      <td>255</td>\n",
              "      <td>255</td>\n",
              "      <td>255</td>\n",
              "      <td>255</td>\n",
              "      <td>255</td>\n",
              "      <td>255</td>\n",
              "      <td>255</td>\n",
              "      <td>255</td>\n",
              "      <td>255</td>\n",
              "      <td>255</td>\n",
              "      <td>255</td>\n",
              "      <td>255</td>\n",
              "      <td>255</td>\n",
              "      <td>255</td>\n",
              "      <td>255</td>\n",
              "      <td>255</td>\n",
              "      <td>255</td>\n",
              "      <td>255</td>\n",
              "      <td>255</td>\n",
              "      <td>255</td>\n",
              "      <td>255</td>\n",
              "      <td>255</td>\n",
              "      <td>255</td>\n",
              "      <td>255</td>\n",
              "      <td>255</td>\n",
              "      <td>255</td>\n",
              "      <td>255</td>\n",
              "      <td>255</td>\n",
              "      <td>255</td>\n",
              "      <td>255</td>\n",
              "      <td>255</td>\n",
              "      <td>255</td>\n",
              "      <td>255</td>\n",
              "      <td>...</td>\n",
              "      <td>255</td>\n",
              "      <td>255</td>\n",
              "      <td>255</td>\n",
              "      <td>255</td>\n",
              "      <td>255</td>\n",
              "      <td>255</td>\n",
              "      <td>255</td>\n",
              "      <td>255</td>\n",
              "      <td>255</td>\n",
              "      <td>255</td>\n",
              "      <td>255</td>\n",
              "      <td>255</td>\n",
              "      <td>255</td>\n",
              "      <td>255</td>\n",
              "      <td>255</td>\n",
              "      <td>255</td>\n",
              "      <td>255</td>\n",
              "      <td>255</td>\n",
              "      <td>255</td>\n",
              "      <td>255</td>\n",
              "      <td>255</td>\n",
              "      <td>255</td>\n",
              "      <td>255</td>\n",
              "      <td>255</td>\n",
              "      <td>255</td>\n",
              "      <td>255</td>\n",
              "      <td>255</td>\n",
              "      <td>255</td>\n",
              "      <td>255</td>\n",
              "      <td>255</td>\n",
              "      <td>255</td>\n",
              "      <td>255</td>\n",
              "      <td>255</td>\n",
              "      <td>255</td>\n",
              "      <td>255</td>\n",
              "      <td>255</td>\n",
              "      <td>255</td>\n",
              "      <td>255</td>\n",
              "      <td>255</td>\n",
              "      <td>255</td>\n",
              "    </tr>\n",
              "    <tr>\n",
              "      <th>3</th>\n",
              "      <td>Whole</td>\n",
              "      <td>253</td>\n",
              "      <td>253</td>\n",
              "      <td>253</td>\n",
              "      <td>253</td>\n",
              "      <td>253</td>\n",
              "      <td>253</td>\n",
              "      <td>253</td>\n",
              "      <td>253</td>\n",
              "      <td>253</td>\n",
              "      <td>253</td>\n",
              "      <td>253</td>\n",
              "      <td>253</td>\n",
              "      <td>253</td>\n",
              "      <td>253</td>\n",
              "      <td>253</td>\n",
              "      <td>253</td>\n",
              "      <td>253</td>\n",
              "      <td>253</td>\n",
              "      <td>253</td>\n",
              "      <td>253</td>\n",
              "      <td>253</td>\n",
              "      <td>253</td>\n",
              "      <td>253</td>\n",
              "      <td>253</td>\n",
              "      <td>253</td>\n",
              "      <td>253</td>\n",
              "      <td>253</td>\n",
              "      <td>253</td>\n",
              "      <td>253</td>\n",
              "      <td>253</td>\n",
              "      <td>253</td>\n",
              "      <td>253</td>\n",
              "      <td>253</td>\n",
              "      <td>253</td>\n",
              "      <td>253</td>\n",
              "      <td>253</td>\n",
              "      <td>253</td>\n",
              "      <td>253</td>\n",
              "      <td>253</td>\n",
              "      <td>...</td>\n",
              "      <td>253</td>\n",
              "      <td>253</td>\n",
              "      <td>253</td>\n",
              "      <td>253</td>\n",
              "      <td>253</td>\n",
              "      <td>253</td>\n",
              "      <td>253</td>\n",
              "      <td>253</td>\n",
              "      <td>253</td>\n",
              "      <td>253</td>\n",
              "      <td>253</td>\n",
              "      <td>253</td>\n",
              "      <td>253</td>\n",
              "      <td>253</td>\n",
              "      <td>253</td>\n",
              "      <td>253</td>\n",
              "      <td>253</td>\n",
              "      <td>253</td>\n",
              "      <td>253</td>\n",
              "      <td>253</td>\n",
              "      <td>253</td>\n",
              "      <td>253</td>\n",
              "      <td>253</td>\n",
              "      <td>253</td>\n",
              "      <td>253</td>\n",
              "      <td>253</td>\n",
              "      <td>253</td>\n",
              "      <td>253</td>\n",
              "      <td>253</td>\n",
              "      <td>253</td>\n",
              "      <td>253</td>\n",
              "      <td>253</td>\n",
              "      <td>253</td>\n",
              "      <td>253</td>\n",
              "      <td>253</td>\n",
              "      <td>253</td>\n",
              "      <td>253</td>\n",
              "      <td>253</td>\n",
              "      <td>253</td>\n",
              "      <td>253</td>\n",
              "    </tr>\n",
              "    <tr>\n",
              "      <th>4</th>\n",
              "      <td>Whole</td>\n",
              "      <td>252</td>\n",
              "      <td>252</td>\n",
              "      <td>252</td>\n",
              "      <td>252</td>\n",
              "      <td>252</td>\n",
              "      <td>252</td>\n",
              "      <td>252</td>\n",
              "      <td>252</td>\n",
              "      <td>252</td>\n",
              "      <td>252</td>\n",
              "      <td>252</td>\n",
              "      <td>252</td>\n",
              "      <td>252</td>\n",
              "      <td>252</td>\n",
              "      <td>252</td>\n",
              "      <td>252</td>\n",
              "      <td>252</td>\n",
              "      <td>252</td>\n",
              "      <td>252</td>\n",
              "      <td>252</td>\n",
              "      <td>252</td>\n",
              "      <td>252</td>\n",
              "      <td>252</td>\n",
              "      <td>252</td>\n",
              "      <td>252</td>\n",
              "      <td>252</td>\n",
              "      <td>252</td>\n",
              "      <td>252</td>\n",
              "      <td>252</td>\n",
              "      <td>252</td>\n",
              "      <td>252</td>\n",
              "      <td>252</td>\n",
              "      <td>252</td>\n",
              "      <td>252</td>\n",
              "      <td>252</td>\n",
              "      <td>252</td>\n",
              "      <td>252</td>\n",
              "      <td>252</td>\n",
              "      <td>252</td>\n",
              "      <td>...</td>\n",
              "      <td>252</td>\n",
              "      <td>252</td>\n",
              "      <td>252</td>\n",
              "      <td>252</td>\n",
              "      <td>252</td>\n",
              "      <td>252</td>\n",
              "      <td>252</td>\n",
              "      <td>252</td>\n",
              "      <td>252</td>\n",
              "      <td>252</td>\n",
              "      <td>252</td>\n",
              "      <td>252</td>\n",
              "      <td>252</td>\n",
              "      <td>252</td>\n",
              "      <td>252</td>\n",
              "      <td>252</td>\n",
              "      <td>252</td>\n",
              "      <td>252</td>\n",
              "      <td>252</td>\n",
              "      <td>252</td>\n",
              "      <td>252</td>\n",
              "      <td>252</td>\n",
              "      <td>252</td>\n",
              "      <td>252</td>\n",
              "      <td>252</td>\n",
              "      <td>252</td>\n",
              "      <td>252</td>\n",
              "      <td>252</td>\n",
              "      <td>252</td>\n",
              "      <td>252</td>\n",
              "      <td>252</td>\n",
              "      <td>252</td>\n",
              "      <td>252</td>\n",
              "      <td>252</td>\n",
              "      <td>252</td>\n",
              "      <td>252</td>\n",
              "      <td>252</td>\n",
              "      <td>252</td>\n",
              "      <td>252</td>\n",
              "      <td>252</td>\n",
              "    </tr>\n",
              "  </tbody>\n",
              "</table>\n",
              "<p>5 rows × 785 columns</p>\n",
              "</div>"
            ],
            "text/plain": [
              "   label  pixel 1  pixel 2  pixel 3  ...  pixel 781  pixel 782  pixel 783  pixel 784\n",
              "0  Whole      253      253      253  ...        254        254        254        254\n",
              "1  Whole      255      255      255  ...        255        255        255        255\n",
              "2  Whole      255      255      255  ...        255        255        255        255\n",
              "3  Whole      253      253      253  ...        253        253        253        253\n",
              "4  Whole      252      252      252  ...        252        252        252        252\n",
              "\n",
              "[5 rows x 785 columns]"
            ]
          },
          "metadata": {
            "tags": []
          },
          "execution_count": 34
        }
      ]
    },
    {
      "cell_type": "code",
      "metadata": {
        "colab": {
          "base_uri": "https://localhost:8080/"
        },
        "id": "gju5njgwePqX",
        "outputId": "8696963a-562f-4ead-ad71-1c4043bf5275"
      },
      "source": [
        "\n",
        "!pwd"
      ],
      "execution_count": 35,
      "outputs": [
        {
          "output_type": "stream",
          "text": [
            "/content\n"
          ],
          "name": "stdout"
        }
      ]
    },
    {
      "cell_type": "markdown",
      "metadata": {
        "id": "akErIUjg-TKE"
      },
      "source": [
        "Split dataset into individual dataframes based on the type of note - this will allow us to pull our training set with an equal number of each note."
      ]
    },
    {
      "cell_type": "code",
      "metadata": {
        "id": "FSpS505K7_TL",
        "colab": {
          "base_uri": "https://localhost:8080/"
        },
        "outputId": "136e7930-34da-44be-f721-1bbac221ddb3"
      },
      "source": [
        "eight = notes.groupby('label').get_group('Eight')\n",
        "quarter = notes.groupby('label').get_group('Quarter')\n",
        "half = notes.groupby('label').get_group('Half')\n",
        "sixteenth = notes.groupby('label').get_group('Sixteenth')\n",
        "whole = notes.groupby('label').get_group('Whole')\n",
        "\n",
        "print(eight.shape)\n",
        "print(quarter.shape)\n",
        "print(half.shape)\n",
        "print(sixteenth.shape)\n",
        "print(whole.shape)"
      ],
      "execution_count": null,
      "outputs": [
        {
          "output_type": "stream",
          "text": [
            "(1000, 785)\n",
            "(1000, 785)\n",
            "(1000, 785)\n",
            "(1000, 785)\n",
            "(1000, 785)\n"
          ],
          "name": "stdout"
        }
      ]
    },
    {
      "cell_type": "markdown",
      "metadata": {
        "id": "PcCsxbAjBvB2"
      },
      "source": [
        "Split each type of note into a training set vs a test set, so that we have an equal number of each type of note in the training set."
      ]
    },
    {
      "cell_type": "code",
      "metadata": {
        "id": "yJVhqQMd-g31",
        "colab": {
          "base_uri": "https://localhost:8080/"
        },
        "outputId": "c10fa20e-f67d-4745-af63-2b33aa974d3e"
      },
      "source": [
        "from sklearn.model_selection import train_test_split\n",
        "\n",
        "eight_train, eight_test = train_test_split(eight, test_size=0.2)\n",
        "quarter_train, quarter_test = train_test_split(quarter, test_size=0.2)\n",
        "half_train, half_test = train_test_split(half, test_size=0.2)\n",
        "sixteenth_train, sixteenth_test = train_test_split(sixteenth, test_size=0.2)\n",
        "whole_train, whole_test = train_test_split(whole, test_size=0.2)\n",
        "\n",
        "print(len(eight_train), len(eight_test))\n",
        "print(len(quarter_train), len(quarter_test))\n",
        "print(len(half_train), len(half_test))\n",
        "print(len(sixteenth_train), len(sixteenth_test))\n",
        "print(len(whole_train), len(whole_test))\n"
      ],
      "execution_count": null,
      "outputs": [
        {
          "output_type": "stream",
          "text": [
            "800 200\n",
            "800 200\n",
            "800 200\n",
            "800 200\n",
            "800 200\n"
          ],
          "name": "stdout"
        }
      ]
    },
    {
      "cell_type": "markdown",
      "metadata": {
        "id": "DGOnKWujFF6p"
      },
      "source": [
        "Now, split the validation sets out of each training set."
      ]
    },
    {
      "cell_type": "code",
      "metadata": {
        "id": "PU6YHNbtFJl7"
      },
      "source": [
        "eight_val = eight_train[700:]\n",
        "quarter_val = quarter_train[700:]\n",
        "half_val = half_train[700:]\n",
        "sixteenth_val = sixteenth_train[700:]\n",
        "whole_val = whole_train[700:]\n",
        "\n",
        "eight_train = eight_train[:700]\n",
        "quarter_train = quarter_train[:700]\n",
        "half_train = half_train[:700]\n",
        "sixteenth_train = sixteenth_train[:700]\n",
        "whole_train = whole_train[:700]"
      ],
      "execution_count": null,
      "outputs": []
    },
    {
      "cell_type": "markdown",
      "metadata": {
        "id": "nDoxWYCXB6r0"
      },
      "source": [
        "Combine the training and test sets for each note type into one training and test set for the whole dataset."
      ]
    },
    {
      "cell_type": "code",
      "metadata": {
        "id": "owc0Cg9MAccg",
        "colab": {
          "base_uri": "https://localhost:8080/"
        },
        "outputId": "0b46ab43-3944-4126-d36d-88ce9964a492"
      },
      "source": [
        "train_frames = [eight_train,quarter_train,half_train,sixteenth_train,whole_train]\n",
        "train = pd.concat(train_frames)\n",
        "\n",
        "val_frames = [eight_val,quarter_val,half_val,sixteenth_val,whole_val]\n",
        "val = pd.concat(val_frames)\n",
        "\n",
        "test_frames = [eight_test,quarter_test,half_test,sixteenth_test,whole_test]\n",
        "test = pd.concat(test_frames)\n",
        "\n",
        "print(len(train))\n",
        "print(len(val))\n",
        "print(len(test))"
      ],
      "execution_count": null,
      "outputs": [
        {
          "output_type": "stream",
          "text": [
            "3500\n",
            "500\n",
            "1000\n"
          ],
          "name": "stdout"
        }
      ]
    },
    {
      "cell_type": "markdown",
      "metadata": {
        "id": "bNtABZ_UCDdg"
      },
      "source": [
        "Split training and testing sets into x and y sets to correlate the labels and notes."
      ]
    },
    {
      "cell_type": "code",
      "metadata": {
        "id": "rDgHkgQwBtRM",
        "colab": {
          "base_uri": "https://localhost:8080/"
        },
        "outputId": "d833412c-af72-4bca-f885-92b864c04f64"
      },
      "source": [
        "x_train = train.iloc[:,2:].values\n",
        "y_train = train['label'].to_numpy()\n",
        "\n",
        "print('Train:', '\\n', x_train[:5])\n",
        "print(y_train[:5])\n",
        "\n",
        "x_val = val.iloc[:,2:].values\n",
        "y_val = val['label'].to_numpy()\n",
        "\n",
        "print('Validation:', '\\n', x_val[:5])\n",
        "print(y_val[:5])\n",
        "\n",
        "x_test = test.iloc[:,2:].values\n",
        "y_test = test['label'].to_numpy()\n",
        "\n",
        "print('\\n', 'Test:', '\\n', x_test[:5])\n",
        "print(y_test[:5])"
      ],
      "execution_count": null,
      "outputs": [
        {
          "output_type": "stream",
          "text": [
            "Train: \n",
            " [[254 255 255 ... 255 255 255]\n",
            " [255 255 255 ... 255 255 255]\n",
            " [255 255 255 ... 255 255 255]\n",
            " [255 255 255 ... 255 255 255]\n",
            " [255 255 255 ... 255 255 255]]\n",
            "['Eight' 'Eight' 'Eight' 'Eight' 'Eight']\n",
            "Validation: \n",
            " [[254 254 254 ... 254 254 254]\n",
            " [253 253 253 ... 253 253 253]\n",
            " [253 253 253 ... 253 253 253]\n",
            " [255 255 255 ... 255 255 255]\n",
            " [254 254 254 ... 254 254 254]]\n",
            "['Eight' 'Eight' 'Eight' 'Eight' 'Eight']\n",
            "\n",
            " Test: \n",
            " [[255 255 255 ... 255 255 255]\n",
            " [254 254 254 ... 254 254 254]\n",
            " [255 255 255 ... 255 255 255]\n",
            " [255 255 255 ... 255 255 255]\n",
            " [255 255 255 ... 255 255 255]]\n",
            "['Eight' 'Eight' 'Eight' 'Eight' 'Eight']\n"
          ],
          "name": "stdout"
        }
      ]
    },
    {
      "cell_type": "code",
      "metadata": {
        "id": "V_ECEef58evN"
      },
      "source": [
        ""
      ],
      "execution_count": null,
      "outputs": []
    },
    {
      "cell_type": "markdown",
      "metadata": {
        "id": "y0qCJaNsoP3o"
      },
      "source": [
        "## Training the Model - Random Forrest"
      ]
    },
    {
      "cell_type": "code",
      "metadata": {
        "id": "PvZYR1D-oSn-",
        "colab": {
          "base_uri": "https://localhost:8080/"
        },
        "outputId": "df6054d0-539b-4ecd-f5d2-83ce2362be59"
      },
      "source": [
        "from sklearn.ensemble import RandomForestClassifier\n",
        "\n",
        "from sklearn.metrics import accuracy_score, confusion_matrix, plot_confusion_matrix\n",
        "\n",
        "random_forest = RandomForestClassifier()\n",
        "random_forest.fit(x_train, y_train)"
      ],
      "execution_count": null,
      "outputs": [
        {
          "output_type": "execute_result",
          "data": {
            "text/plain": [
              "RandomForestClassifier(bootstrap=True, ccp_alpha=0.0, class_weight=None,\n",
              "                       criterion='gini', max_depth=None, max_features='auto',\n",
              "                       max_leaf_nodes=None, max_samples=None,\n",
              "                       min_impurity_decrease=0.0, min_impurity_split=None,\n",
              "                       min_samples_leaf=1, min_samples_split=2,\n",
              "                       min_weight_fraction_leaf=0.0, n_estimators=100,\n",
              "                       n_jobs=None, oob_score=False, random_state=None,\n",
              "                       verbose=0, warm_start=False)"
            ]
          },
          "metadata": {
            "tags": []
          },
          "execution_count": 19
        }
      ]
    },
    {
      "cell_type": "code",
      "metadata": {
        "id": "NP3Bkm7zZUth"
      },
      "source": [
        "y_train_pred = random_forest.predict(x_train)"
      ],
      "execution_count": null,
      "outputs": []
    },
    {
      "cell_type": "code",
      "metadata": {
        "colab": {
          "base_uri": "https://localhost:8080/"
        },
        "id": "EMcAP2oTUDwK",
        "outputId": "503df250-8227-45b2-b3f3-fbb999962ca4"
      },
      "source": [
        "np.mean(y_train == y_train_pred)"
      ],
      "execution_count": null,
      "outputs": [
        {
          "output_type": "execute_result",
          "data": {
            "text/plain": [
              "1.0"
            ]
          },
          "metadata": {
            "tags": []
          },
          "execution_count": 21
        }
      ]
    },
    {
      "cell_type": "code",
      "metadata": {
        "id": "GZmS7pYbUIS_"
      },
      "source": [
        "y_pred = random_forest.predict(x_test)"
      ],
      "execution_count": null,
      "outputs": []
    },
    {
      "cell_type": "code",
      "metadata": {
        "colab": {
          "base_uri": "https://localhost:8080/"
        },
        "id": "zlx0ZFEsUrhN",
        "outputId": "c59936c9-efee-4acc-915c-a5a5405b6ae8"
      },
      "source": [
        "np.mean(y_pred == y_test)"
      ],
      "execution_count": null,
      "outputs": [
        {
          "output_type": "execute_result",
          "data": {
            "text/plain": [
              "0.977"
            ]
          },
          "metadata": {
            "tags": []
          },
          "execution_count": 23
        }
      ]
    },
    {
      "cell_type": "code",
      "metadata": {
        "colab": {
          "base_uri": "https://localhost:8080/",
          "height": 301
        },
        "id": "rtnHrOxGUyQw",
        "outputId": "7fe122e4-6671-4af3-e9c5-d3787f51cdcd"
      },
      "source": [
        "plot_confusion_matrix(random_forest, x_test, y_test)"
      ],
      "execution_count": null,
      "outputs": [
        {
          "output_type": "execute_result",
          "data": {
            "text/plain": [
              "<sklearn.metrics._plot.confusion_matrix.ConfusionMatrixDisplay at 0x7f752506b990>"
            ]
          },
          "metadata": {
            "tags": []
          },
          "execution_count": 24
        },
        {
          "output_type": "display_data",
          "data": {
            "image/png": "[encoded data removed]",
            "text/plain": [
              "<Figure size 432x288 with 2 Axes>"
            ]
          },
          "metadata": {
            "tags": [],
            "needs_background": "light"
          }
        }
      ]
    },
    {
      "cell_type": "markdown",
      "metadata": {
        "id": "i5i7QGP0ZYFo"
      },
      "source": [
        "## Train the Model - K-Nearest Neighbor"
      ]
    },
    {
      "cell_type": "code",
      "metadata": {
        "colab": {
          "base_uri": "https://localhost:8080/"
        },
        "id": "P38tdVdsZfgE",
        "outputId": "d9886d46-4e79-47aa-b8ba-2910a49308c3"
      },
      "source": [
        "from sklearn.neighbors import KNeighborsClassifier\n",
        "\n",
        "knn = KNeighborsClassifier(n_neighbors = 4, weights = 'distance')\n",
        "knn.fit(x_train, y_train)"
      ],
      "execution_count": null,
      "outputs": [
        {
          "output_type": "execute_result",
          "data": {
            "text/plain": [
              "KNeighborsClassifier(algorithm='auto', leaf_size=30, metric='minkowski',\n",
              "                     metric_params=None, n_jobs=None, n_neighbors=4, p=2,\n",
              "                     weights='distance')"
            ]
          },
          "metadata": {
            "tags": []
          },
          "execution_count": 28
        }
      ]
    },
    {
      "cell_type": "code",
      "metadata": {
        "colab": {
          "base_uri": "https://localhost:8080/"
        },
        "id": "8CSG1WjpZsQU",
        "outputId": "b7bc7d46-6266-4f67-d927-3f9318c6c9b6"
      },
      "source": [
        "y_train_pred = knn.predict(x_train)\n",
        "np.mean(y_train_pred == y_train)"
      ],
      "execution_count": null,
      "outputs": [
        {
          "output_type": "execute_result",
          "data": {
            "text/plain": [
              "1.0"
            ]
          },
          "metadata": {
            "tags": []
          },
          "execution_count": 29
        }
      ]
    },
    {
      "cell_type": "code",
      "metadata": {
        "colab": {
          "base_uri": "https://localhost:8080/"
        },
        "id": "wTFdNXlwZ_T_",
        "outputId": "69160d89-4157-46c5-c20b-b5c0eb4ecd7e"
      },
      "source": [
        "y_test_pred = knn.predict(x_test)\n",
        "np.mean(y_test_pred == y_test)"
      ],
      "execution_count": null,
      "outputs": [
        {
          "output_type": "execute_result",
          "data": {
            "text/plain": [
              "0.966"
            ]
          },
          "metadata": {
            "tags": []
          },
          "execution_count": 30
        }
      ]
    },
    {
      "cell_type": "code",
      "metadata": {
        "id": "CgJpwCksaSG7"
      },
      "source": [
        ""
      ],
      "execution_count": null,
      "outputs": []
    }
  ]
}